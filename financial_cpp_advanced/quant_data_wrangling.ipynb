{
 "cells": [
  {
   "cell_type": "code",
   "execution_count": 26,
   "id": "c3b5c594",
   "metadata": {},
   "outputs": [],
   "source": [
    "#/Users/jadenfix/Downloads/MSFT_data.csv \n",
    "#/Users/jadenfix/Downloads/nvda_data.csv"
   ]
  },
  {
   "cell_type": "code",
   "execution_count": 30,
   "id": "95f1c4b1",
   "metadata": {},
   "outputs": [
    {
     "name": "stdout",
     "output_type": "stream",
     "text": [
      "     open    high     low   close  volume            datetime   date_only  \\\n",
      "0  374.70  376.00  373.48  373.82     554 2025-04-01 04:00:00  2025-04-01   \n",
      "1  373.98  374.00  373.84  373.98     243 2025-04-01 04:01:00  2025-04-01   \n",
      "2  373.91  374.37  373.91  374.22    1064 2025-04-01 04:02:00  2025-04-01   \n",
      "3  374.14  374.27  374.03  374.03     128 2025-04-01 04:03:00  2025-04-01   \n",
      "4  374.20  374.20  373.94  374.16      22 2025-04-01 04:04:00  2025-04-01   \n",
      "\n",
      "  time_only  \n",
      "0  04:00:00  \n",
      "1  04:01:00  \n",
      "2  04:02:00  \n",
      "3  04:03:00  \n",
      "4  04:04:00  \n",
      "           open    high       low   close  volume            datetime  \\\n",
      "19971  422.2300  422.31  422.0100  422.03    4404 2025-04-30 19:55:00   \n",
      "19972  422.0999  422.50  421.8000  422.35   15572 2025-04-30 19:56:00   \n",
      "19973  422.3500  422.80  422.2800  422.43   11932 2025-04-30 19:57:00   \n",
      "19974  422.5500  422.98  422.5100  422.83    5194 2025-04-30 19:58:00   \n",
      "19975  422.7000  423.00  422.5245  422.66    8753 2025-04-30 19:59:00   \n",
      "\n",
      "        date_only time_only  \n",
      "19971  2025-04-30  19:55:00  \n",
      "19972  2025-04-30  19:56:00  \n",
      "19973  2025-04-30  19:57:00  \n",
      "19974  2025-04-30  19:58:00  \n",
      "19975  2025-04-30  19:59:00  \n",
      "<class 'pandas.core.frame.DataFrame'>\n",
      "RangeIndex: 19976 entries, 0 to 19975\n",
      "Data columns (total 8 columns):\n",
      " #   Column     Non-Null Count  Dtype         \n",
      "---  ------     --------------  -----         \n",
      " 0   open       19976 non-null  float64       \n",
      " 1   high       19976 non-null  float64       \n",
      " 2   low        19976 non-null  float64       \n",
      " 3   close      19976 non-null  float64       \n",
      " 4   volume     19976 non-null  int64         \n",
      " 5   datetime   19976 non-null  datetime64[ns]\n",
      " 6   date_only  19976 non-null  object        \n",
      " 7   time_only  19976 non-null  object        \n",
      "dtypes: datetime64[ns](1), float64(4), int64(1), object(2)\n",
      "memory usage: 1.2+ MB\n"
     ]
    }
   ],
   "source": [
    "import pandas as pd\n",
    "\n",
    "# load your data\n",
    "data = pd.read_csv('/Users/jadenfix/Downloads/MSFT_data.csv')\n",
    "\n",
    "# 1. Parse the existing column into a single datetime\n",
    "#    Format is M/D/YY H:MM (e.g. “4/1/25 4:00”)\n",
    "data['datetime'] = pd.to_datetime(data['date'], format='%m/%d/%y %H:%M')\n",
    "\n",
    "# 2. Extract date and time into separate columns\n",
    "data['date_only'] = data['datetime'].dt.date      # yields datetime.date objects\n",
    "data['time_only'] = data['datetime'].dt.time      # yields datetime.time objects\n",
    "\n",
    "# 3. (Optional) If you prefer ISO‐style strings instead:\n",
    "# data['date_only'] = data['datetime'].dt.strftime('%Y-%m-%d')\n",
    "# data['time_only'] = data['datetime'].dt.strftime('%H:%M:%S')\n",
    "\n",
    "# 4. Drop the old text column if you like\n",
    "data = data.drop(columns=['date'])\n",
    "\n",
    "# 5. Inspect the result\n",
    "print(data.head())\n",
    "print(data.tail())\n",
    "data.info()"
   ]
  },
  {
   "cell_type": "code",
   "execution_count": 31,
   "id": "b1d2c9f4",
   "metadata": {},
   "outputs": [
    {
     "name": "stdout",
     "output_type": "stream",
     "text": [
      "     open    high     low   close  volume   date_only time_only\n",
      "0  374.70  376.00  373.48  373.82     554  2025-04-01  04:00:00\n",
      "1  373.98  374.00  373.84  373.98     243  2025-04-01  04:01:00\n",
      "2  373.91  374.37  373.91  374.22    1064  2025-04-01  04:02:00\n",
      "3  374.14  374.27  374.03  374.03     128  2025-04-01  04:03:00\n",
      "4  374.20  374.20  373.94  374.16      22  2025-04-01  04:04:00\n",
      "open         float64\n",
      "high         float64\n",
      "low          float64\n",
      "close        float64\n",
      "volume         int64\n",
      "date_only     object\n",
      "time_only     object\n",
      "dtype: object\n",
      "Saved to /Users/jadenfix/Downloads/quant_seconds_data_MSFT.csv\n"
     ]
    }
   ],
   "source": [
    "import pandas as pd\n",
    "\n",
    "# if your full, cleaned data lives in `df`, just select the cols you need:\n",
    "quant_seconds_data_MSFT = data[['open', 'high', 'low', 'close', 'volume', 'date_only', 'time_only']].copy()\n",
    "\n",
    "# sanity‐check:\n",
    "print(quant_seconds_data_MSFT.head())\n",
    "print(quant_seconds_data_MSFT.dtypes)\n",
    "\n",
    "import os\n",
    "\n",
    "# build path to ~/Downloads\n",
    "downloads = os.path.join(os.path.expanduser(\"~\"), \"Downloads\")\n",
    "out_path = os.path.join(downloads, \"quant_seconds_data_MSFT.csv\")\n",
    "\n",
    "# export without the index column\n",
    "quant_seconds_data_MSFT.to_csv(out_path, index=False)\n",
    "\n",
    "print(f\"Saved to {out_path}\")"
   ]
  }
 ],
 "metadata": {
  "kernelspec": {
   "display_name": "Python 3",
   "language": "python",
   "name": "python3"
  },
  "language_info": {
   "codemirror_mode": {
    "name": "ipython",
    "version": 3
   },
   "file_extension": ".py",
   "mimetype": "text/x-python",
   "name": "python",
   "nbconvert_exporter": "python",
   "pygments_lexer": "ipython3",
   "version": "3.12.3"
  }
 },
 "nbformat": 4,
 "nbformat_minor": 5
}
