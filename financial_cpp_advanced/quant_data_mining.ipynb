{
  "nbformat": 4,
  "nbformat_minor": 0,
  "metadata": {
    "colab": {
      "provenance": [],
      "authorship_tag": "ABX9TyNuTdWWiFozNhAjlVnF5Raz",
      "include_colab_link": true
    },
    "kernelspec": {
      "name": "python3",
      "display_name": "Python 3"
    },
    "language_info": {
      "name": "python"
    }
  },
  "cells": [
    {
      "cell_type": "markdown",
      "metadata": {
        "id": "view-in-github",
        "colab_type": "text"
      },
      "source": [
        "<a href=\"https://colab.research.google.com/github/jadenfix/financial_cpp/blob/main/quant_data_mining.ipynb\" target=\"_parent\"><img src=\"https://colab.research.google.com/assets/colab-badge.svg\" alt=\"Open In Colab\"/></a>"
      ]
    },
    {
      "cell_type": "markdown",
      "source": [
        "# # Financial Data Fetching Notebook\n",
        "# Inspired by the blog post: [Free Finance Datasets for Quants](https://dm13450.github.io/2023/11/25/Free-Finance-Datasets-for-Quants.html)"
      ],
      "metadata": {
        "id": "8Ykpc4W8E4zR"
      }
    },
    {
      "cell_type": "code",
      "source": [
        "!pip install yfinance pandas pandas-datareader matplotlib sec-edgar-downloader requests --upgrade --quiet\n"
      ],
      "metadata": {
        "id": "mMD--jU9E5Ed"
      },
      "execution_count": 39,
      "outputs": []
    },
    {
      "cell_type": "markdown",
      "source": [
        "# Import all necessary libraries for the script.\n"
      ],
      "metadata": {
        "id": "qdQh5-qdE5RN"
      }
    },
    {
      "cell_type": "code",
      "source": [
        "import yfinance as yf\n",
        "import pandas as pd\n",
        "import pandas_datareader.data as web\n",
        "import datetime\n",
        "import matplotlib.pyplot as plt\n",
        "import os\n",
        "from sec_edgar_downloader import Downloader\n",
        "import requests # For direct API calls (e.g., Alpha Vantage)\n",
        "import warnings\n",
        "from google.colab import userdata # For Colab Secrets\n"
      ],
      "metadata": {
        "id": "k8aOBiR8E5mk"
      },
      "execution_count": 40,
      "outputs": []
    },
    {
      "cell_type": "markdown",
      "source": [
        "load in data"
      ],
      "metadata": {
        "id": "waPJspUwE5zm"
      }
    },
    {
      "cell_type": "code",
      "source": [
        "try:\n",
        "    # Recommended: Fetch from Colab Secrets\n",
        "    ALPHA_VANTAGE_API_KEY = userdata.get('ALPHA_VANTAGE_API_KEY')\n",
        "    if not ALPHA_VANTAGE_API_KEY: raise KeyError # Treat empty secret same as missing\n",
        "    print(\"✅ Alpha Vantage API Key loaded from Colab Secrets.\")\n",
        "except KeyError:\n",
        "    # Fallback if secret not set\n",
        "    print(\"⚠️ Alpha Vantage API Key not found in Colab Secrets.\")\n",
        "    print(\"   Add a secret named 'ALPHA_VANTAGE_API_KEY' (key icon 🔑 left sidebar).\")\n",
        "    print(\"   Get a free key from: https://www.alphavantage.co/support/#api-key\")\n",
        "    print(\"   Using a placeholder - Alpha Vantage fetch will likely fail.\")\n",
        "    ALPHA_VANTAGE_API_KEY = \"YOUR_API_KEY_PLACEHOLDER\" # << REPLACE if not using Secrets\n"
      ],
      "metadata": {
        "colab": {
          "base_uri": "https://localhost:8080/"
        },
        "id": "0j8DigL0E6B7",
        "outputId": "4d2e85a8-d5fb-43fb-b5ce-73e0d92af09f"
      },
      "execution_count": 41,
      "outputs": [
        {
          "output_type": "stream",
          "name": "stdout",
          "text": [
            "✅ Alpha Vantage API Key loaded from Colab Secrets.\n"
          ]
        }
      ]
    },
    {
      "cell_type": "markdown",
      "source": [
        "paths"
      ],
      "metadata": {
        "id": "MRYgGjr9E6N5"
      }
    },
    {
      "cell_type": "code",
      "source": [
        "ALPHA_DOWNLOAD_PATH = \"/content/alpha_vantage_data\""
      ],
      "metadata": {
        "id": "FKqzR3rjE6ou"
      },
      "execution_count": 42,
      "outputs": []
    },
    {
      "cell_type": "markdown",
      "source": [
        "dates"
      ],
      "metadata": {
        "id": "tF6aJldvHL_9"
      }
    },
    {
      "cell_type": "code",
      "source": [
        "start_date = datetime.datetime(2024, 1, 1)\n",
        "end_date = datetime.datetime(2025, 4, 30)"
      ],
      "metadata": {
        "id": "hgcivuqRHMOQ"
      },
      "execution_count": 43,
      "outputs": []
    },
    {
      "cell_type": "markdown",
      "source": [],
      "metadata": {
        "id": "vuhidQ1QH626"
      }
    },
    {
      "cell_type": "code",
      "source": [],
      "metadata": {
        "id": "kjh24cHlJBiI"
      },
      "execution_count": 43,
      "outputs": []
    },
    {
      "cell_type": "code",
      "source": [
        "\n",
        "def fetch_alpha_vantage_intraday_data(symbol, interval='5min', outputsize='compact', api_key=None):\n",
        "    \"\"\"\n",
        "    Fetches intraday (minute-level) stock data from Alpha Vantage.\n",
        "\n",
        "    Args:\n",
        "        symbol (str): The stock ticker symbol (e.g., 'IBM', 'GOOGL').\n",
        "        interval (str): The time interval between data points.\n",
        "                        Valid values: '1min', '5min', '15min', '30min', '60min'.\n",
        "        outputsize (str): 'compact' returns the latest 100 data points.\n",
        "                          'full' returns up to 2 years of historical data for premium members,\n",
        "                          limited history for free tier (typically 1-2 days).\n",
        "        api_key (str): Your Alpha Vantage API key.\n",
        "\n",
        "    Returns:\n",
        "        pandas.DataFrame: DataFrame containing the intraday data, or None if an error occurs.\n",
        "    \"\"\"\n",
        "    print(f\"\\n--- Fetching Alpha Vantage {interval} data for {symbol} ({outputsize}) ---\")\n",
        "\n",
        "    # Validate API Key\n",
        "    if not api_key or api_key == \"YOUR_API_KEY_PLACEHOLDER\":\n",
        "        print(\"❌ Error: Alpha Vantage API key not provided or is placeholder.\")\n",
        "        print(\"   Configure 'ALPHA_VANTAGE_API_KEY' in Colab Secrets or the config cell.\")\n",
        "        return None\n",
        "\n",
        "    # Validate interval\n",
        "    valid_intervals = ['1min', '5min', '15min', '30min', '60min']\n",
        "    if interval not in valid_intervals:\n",
        "        print(f\"❌ Error: Invalid interval '{interval}'. Choose from: {valid_intervals}\")\n",
        "        return None\n",
        "\n",
        "    # Construct the API URL\n",
        "    # Documentation: https://www.alphavantage.co/documentation/#intraday\n",
        "    url = (\n",
        "        f'https://www.alphavantage.co/query?'\n",
        "        f'function=TIME_SERIES_INTRADAY'\n",
        "        f'&symbol={symbol}'\n",
        "        f'&interval={interval}'\n",
        "        f'&outputsize={outputsize}'\n",
        "        f'&apikey={api_key}'\n",
        "        # '&adjusted=true' # Default is true, uncomment to be explicit\n",
        "        # '&extended_hours=true' # Default is true, uncomment to be explicit\n",
        "    )\n",
        "\n",
        "    try:\n",
        "        response = requests.get(url)\n",
        "        response.raise_for_status()  # Raise HTTPError for bad responses (4xx or 5xx)\n",
        "        data = response.json()\n",
        "\n",
        "        # --- Check for API Errors or Notes ---\n",
        "        if \"Error Message\" in data:\n",
        "            print(f\"❌ Alpha Vantage API Error: {data['Error Message']}\")\n",
        "            return None\n",
        "        if \"Note\" in data:\n",
        "            print(f\"ℹ️ Alpha Vantage API Note: {data['Note']}\")\n",
        "            # Often indicates free tier limit reached, but data might still be present\n",
        "\n",
        "        # --- Process Data ---\n",
        "        # The key in the JSON response is dynamic based on the interval\n",
        "        time_series_key = f\"Time Series ({interval})\"\n",
        "\n",
        "        if time_series_key in data:\n",
        "            # Convert the nested dictionary to a Pandas DataFrame\n",
        "            df = pd.DataFrame.from_dict(data[time_series_key], orient='index')\n",
        "            df.index = pd.to_datetime(df.index) # Convert index to datetime\n",
        "            df = df.astype(float) # Convert columns to numeric\n",
        "\n",
        "            # Rename columns ('1. open' -> 'open', '4. close' -> 'close', etc.)\n",
        "            df.rename(columns=lambda x: x.split('. ')[1].replace(' ', '_'), inplace=True)\n",
        "            df.sort_index(inplace=True) # Ensure chronological order\n",
        "\n",
        "            print(f\"✅ Successfully fetched {len(df)} data points from Alpha Vantage.\")\n",
        "            print(df.head()) # Print first few rows\n",
        "\n",
        "            # --- Simple Plot ---\n",
        "            plt.figure(figsize=(12, 5)) # Create a new figure\n",
        "            df['close'].plot(title=f'{symbol} Close Price ({interval} - Alpha Vantage)')\n",
        "            plt.ylabel('Price')\n",
        "            plt.xlabel('Time')\n",
        "            plt.grid(True)\n",
        "            # plt.show() # Display plot immediately if needed, otherwise wait for cell end\n",
        "\n",
        "            return df\n",
        "        else:\n",
        "            print(f\"❌ Could not find '{time_series_key}' in Alpha Vantage response.\")\n",
        "            print(\"   Check symbol, API key, and API limits.\")\n",
        "            print(\"   Response received:\", data) # Print response for debugging\n",
        "            return None\n",
        "\n",
        "    except requests.exceptions.RequestException as e:\n",
        "        print(f\"❌ Network error fetching Alpha Vantage data: {e}\")\n",
        "        return None\n",
        "    except Exception as e:\n",
        "        print(f\"❌ Error processing Alpha Vantage data: {e}\")\n",
        "        return None"
      ],
      "metadata": {
        "id": "BCtg5iIoH6Fw"
      },
      "execution_count": 44,
      "outputs": []
    },
    {
      "cell_type": "markdown",
      "source": [],
      "metadata": {
        "id": "LsGhqfRWJVMd"
      }
    },
    {
      "cell_type": "code",
      "source": [
        "ticker_symbol = 'APPL'   # Example: IBM, try others like 'GOOGL', 'MSFT', 'NVDA'\n",
        "data_interval = '1min' # Options: '1min', '5min', '15min', '30min', '60min'\n",
        "data_outputsize = 'full' # 'compact' (last 100 points) or 'full' (more history, subject to limits)\n",
        "print(f\"--- Starting Intraday Data Fetching ({datetime.datetime.now()}) ---\")\n"
      ],
      "metadata": {
        "colab": {
          "base_uri": "https://localhost:8080/"
        },
        "id": "s1zTpvf8JVbG",
        "outputId": "3f91abf9-0d0b-4bc0-d379-604ec8b1c547"
      },
      "execution_count": 58,
      "outputs": [
        {
          "output_type": "stream",
          "name": "stdout",
          "text": [
            "--- Starting Intraday Data Fetching (2025-05-01 06:15:37.600419) ---\n"
          ]
        }
      ]
    },
    {
      "cell_type": "markdown",
      "source": [
        "fetch data"
      ],
      "metadata": {
        "id": "0zPHn-AfJZgt"
      }
    },
    {
      "cell_type": "code",
      "source": [
        "APPL_data = fetch_alpha_vantage_intraday_data(\n",
        "    symbol=ticker_symbol,\n",
        "    interval=data_interval,\n",
        "    outputsize=data_outputsize,\n",
        "    api_key=ALPHA_VANTAGE_API_KEY\n",
        ")\n",
        "\n",
        "# --- Display Plot ---\n",
        "if APPL_data is not None:\n",
        "    print(\"\\n--- Displaying Generated Plot ---\")\n",
        "    plt.tight_layout()\n",
        "    plt.show() # Display the plot created by the function\n",
        "    print(\"\\n--- Data Fetching and Plotting Complete ---\")\n",
        "else:\n",
        "    print(\"\\n--- Data Fetching Failed ---\")"
      ],
      "metadata": {
        "colab": {
          "base_uri": "https://localhost:8080/"
        },
        "id": "FH0wLNN2JedV",
        "outputId": "7399e705-7b84-408a-f1db-cc54b7336c4e"
      },
      "execution_count": 59,
      "outputs": [
        {
          "output_type": "stream",
          "name": "stdout",
          "text": [
            "\n",
            "--- Fetching Alpha Vantage 1min data for APPL (full) ---\n",
            "❌ Alpha Vantage API Error: Invalid API call. Please retry or visit the documentation (https://www.alphavantage.co/documentation/) for TIME_SERIES_INTRADAY.\n",
            "\n",
            "--- Data Fetching Failed ---\n"
          ]
        }
      ]
    },
    {
      "cell_type": "markdown",
      "source": [
        "save to GD"
      ],
      "metadata": {
        "id": "UK7OTPmNJwyT"
      }
    },
    {
      "cell_type": "code",
      "source": [
        "import os\n",
        "os.makedirs('/content/drive/MyDrive/quant data', exist_ok=True)\n",
        "APPL_data.to_csv('/content/drive/MyDrive/quant data/APPL_data.csv', index=True)"
      ],
      "metadata": {
        "id": "elA1dlUUOnjd"
      },
      "execution_count": 57,
      "outputs": []
    },
    {
      "cell_type": "code",
      "source": [],
      "metadata": {
        "id": "YAgMjR8ZOnYR"
      },
      "execution_count": null,
      "outputs": []
    }
  ]
}